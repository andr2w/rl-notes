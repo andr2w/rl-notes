{
 "cells": [
  {
   "cell_type": "markdown",
   "id": "dffa92f3",
   "metadata": {},
   "source": [
    "### 马尔可夫性质\n",
    "\n",
    "在随机过程中，马尔可夫性质（Markov property）是指一个随机过程在给定现在状态及所有过去状态情况下，其未来状态的条件概率分布仅依赖于当前状态。"
   ]
  },
  {
   "cell_type": "markdown",
   "id": "d15f0b69",
   "metadata": {},
   "source": [
    "- 范围 (horizon) : 是指一个回合的长度（每个回合最大的时间步数），它是由有限个步数决定的。\n",
    "- 回报 (return): 定义为奖励的逐步叠加:\n",
    "$$G_t = r_{t+1} + \\gamma r_{t+2} + \\gamma^2 r_{t+3} + ... + \\gamma^{T-t-1}r_T$$\n",
    "- 状态价值函数 (State-value function): 回报的期望:\n",
    "$$V^t(s) = \\mathbb{E}[G_t \\mid s_t = s] = \\mathbb{E}[r_{t+1} + \\gamma^2 r_{t+3} + ... + \\gamma^{T-t-1}r_T]$$"
   ]
  },
  {
   "cell_type": "markdown",
   "id": "d1da7068",
   "metadata": {},
   "source": [
    "$\\left\\{ x \\in \\mathbb{R} \\mid x > 0 \\right\\}$\n",
    "\n",
    "$f(x) = \\left( \\frac{1}{2} x^2 \\right)$."
   ]
  },
  {
   "cell_type": "code",
   "execution_count": null,
   "id": "14397b63",
   "metadata": {},
   "outputs": [],
   "source": []
  }
 ],
 "metadata": {
  "kernelspec": {
   "display_name": "Python 3 (ipykernel)",
   "language": "python",
   "name": "python3"
  },
  "language_info": {
   "codemirror_mode": {
    "name": "ipython",
    "version": 3
   },
   "file_extension": ".py",
   "mimetype": "text/x-python",
   "name": "python",
   "nbconvert_exporter": "python",
   "pygments_lexer": "ipython3",
   "version": "3.11.3"
  }
 },
 "nbformat": 4,
 "nbformat_minor": 5
}
