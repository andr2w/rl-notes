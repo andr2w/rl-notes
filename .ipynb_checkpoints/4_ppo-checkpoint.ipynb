{
 "cells": [
  {
   "cell_type": "markdown",
   "id": "038fed1e",
   "metadata": {},
   "source": [
    "#### Importance Sampling\n",
    "- $p(x)$ is a P.D.F.\n",
    "$$\\mathbb{E}_{x \\sim p}[f(x)] \\approx \\frac{1}{N}\\sum_{i=1}^Nf(x^i)$$\n",
    "\n",
    "Problem: We do not know the distribution $p(x)$\n",
    "\n",
    "We can sample it from $q(x)$, a P.D.F.\n",
    "\n",
    "$$\n",
    "\\begin{align*}\n",
    "\\mathbb{E}_{x \\sim p}[f(x)] &= \\int f(x)p(x)dx \\\\\n",
    "                            &= \\int f(x)\\frac{p(x)}{q(x)}q(x)dx \\\\\n",
    "                            &= \\mathbb{E}_{x \\sim q}[f(x)\\frac{p(x)}{q(x)}]\n",
    "\\end{align*}\n",
    "$$\n",
    "\n",
    "#### Question: \n",
    "\n",
    "Note:\n",
    "$\\text{Var}[X] = \\mathbb{E}[X^2] - (\\mathbb{E}(x))^2$\n",
    "\n",
    "$$\\mathbb{E}_{x \\sim p}[f(x)] = \\mathbb{E}_{x \\sim q}[f(x)\\frac{p(x)}{q(x)}]$$\n",
    "$$\\text{Var}_{x \\sim p}[f(x)] \\text{ ? } \\text{Var}_{x \\sim q}[f(x)\\frac{p(x)}{q(x)}]$$\n",
    "\n",
    "\n",
    "**See:**\n",
    "\n",
    "$$\\text{Var}_{x\\sim p}[f(x)] = \\mathbb{E}_{x \\sim p}[f(x)^2] - (\\mathbb{E}_{x \\sim p}[f(x)])^2$$\n",
    "\n",
    "$$\n",
    "\\begin{align*}\n",
    "\\text{Var}_{x \\sim q}[f(x)\\frac{p(x)}{q(x)}] &= \\mathbb{E}_{x \\sim q}\\left[\\left(f(x)\\frac{p(x)}{q(x)}\\right)^2\\right] - \\left(\\mathbb{E}_{x \\sim q} \\left[f(x)\\frac{p(x)}{q(x)}\\right]\\right)^2 \\\\\n",
    "&= \\mathbb{E}_{x\\sim p}\\left[f(x)^2\\frac{p(x)}{q(x)}\\right] - (\\mathbb{E}_{x\\sim p}[f(x)])^2\n",
    "\\end{align*}\n",
    "$$"
   ]
  },
  {
   "cell_type": "markdown",
   "id": "df1b9868",
   "metadata": {},
   "source": [
    "这个过程的关键在于利用了变量替换和期望的定义。我们知道，对于随机变量 $X$，其期望 $\\mathbb{E}[X]$ 的定义是 $\\int x p(x) dx$，其中 $p(x)$ 是 $X$ 的概率分布函数。因此，我们可以将期望从 $q$ 分布转换到 $p$ 分布。\n",
    "\n",
    "对于第一个期望 $\\mathbb{E}_{x \\sim q}\\left[\\left(f(x)\\frac{p(x)}{q(x)}\\right)^2\\right]$，我们可以写成\n",
    "\n",
    "$$\n",
    "\\mathbb{E}{x \\sim q}\\left[\\left(f(x)\\frac{p(x)}{q(x)}\\right)^2\\right] = \\int \\left(f(x)\\frac{p(x)}{q(x)}\\right)^2 q(x) dx = \\int f(x)^2\\frac{p(x)}{q(x)} p(x) dx = \\mathbb{E}{x\\sim p}\\left[f(x)^2\\frac{p(x)}{q(x)}\\right]\n",
    "$$\n",
    "\n",
    "对于第二个期望 $\\mathbb{E}_{x \\sim q} \\left[f(x)\\frac{p(x)}{q(x)}\\right]$，我们可以写成\n",
    "\n",
    "$$\n",
    "\\mathbb{E}{x \\sim q} \\left[f(x)\\frac{p(x)}{q(x)}\\right] = \\int f(x)\\frac{p(x)}{q(x)} q(x) dx = \\int f(x) p(x) dx = \\mathbb{E}{x\\sim p}[f(x)]\n",
    "$$\n",
    "\n",
    "因此，我们得到了\n",
    "\n",
    "$$\n",
    "\\text{Var}{x \\sim q}[f(x)\\frac{p(x)}{q(x)}] = \\mathbb{E}{x\\sim p}\\left[f(x)^2\\frac{p(x)}{q(x)}\\right] - (\\mathbb{E}_{x\\sim p}[f(x)])^2\n",
    "$$\n",
    "这就是推导的过程。"
   ]
  },
  {
   "cell_type": "markdown",
   "id": "48e98c07",
   "metadata": {},
   "source": [
    "比较发现, 第一项不同. $p(x)$和$q(x)$的差距不能很大."
   ]
  },
  {
   "cell_type": "markdown",
   "id": "292e90d8",
   "metadata": {},
   "source": [
    "----\n",
    "\n",
    "#### On-policy to Off-policy\n",
    "\n",
    "$$\\nabla \\bar{R}_\\theta = \\mathbb{E}_{\\tau \\sim p_\\theta(\\tau)}[R(\\tau)\\nabla \\log p_\\theta(\\tau)]$$\n",
    "- Use $\\pi_\\theta$ to collect data, when $\\theta$ is updated, we have to sample training data agian.\n",
    "- Goal: Using the sample from $\\pi_{\\theta^\\prime}$ to train $\\theta$. $\\theta^\\prime$ is fixed, so we can re-use the sample data.\n",
    "\n",
    "$$\n",
    "\\begin{align*}\n",
    "\\nabla \\bar{R}_\\theta = \\mathbb{E}_{\\tau \\sim p_{\\theta^\\prime}(\\tau)}\\left[\\frac{p_\\theta(\\tau)}{p_{\\theta^\\prime}(\\tau)}R(\\tau)\\nabla \\log p_\\theta(\\tau)\\right]\n",
    "\\end{align*}\n",
    "$$\n",
    "\n",
    "$\\theta^\\prime$是负责和环境做互动, 示范给$\\theta$\n",
    "- Sample the data from $\\theta^\\prime$.\n",
    "- Use the data to train $\\theta$ many times."
   ]
  },
  {
   "cell_type": "markdown",
   "id": "f061ee6a",
   "metadata": {},
   "source": [
    "#### Gradient for Update\n",
    "Using agent $\\theta$ to sample state and action pair.\n",
    "\n",
    "> $A^\\theta(s_t, a_t)$ 估算出来, 在现在的state, 采取动作$a_t$是好的还是不好的.\n",
    "\n",
    "$$\n",
    "\\begin{align*}\n",
    "&= \\mathbb{E}_{(s_t, a_t) \\sim \\pi_\\theta}\\left[A^\\theta(s_t, a_t)\\nabla \\log p_\\theta(a_t^n\\mid s_t^n)\\right] \\\\\n",
    "& \\text{Using important sampling} \\\\\n",
    "&= \\mathbb{E}_{(s_t, a_t)\\sim \\pi_{\\theta^\\prime}}\\left[\\frac{p_\\theta(s_t, a_t)}{p_{\\theta^\\prime}(s_t, a_t)} A^{\\theta^\\prime}(s_t, a_t)\\nabla \\log p_\\theta(a_t^n\\mid s_t^n)\\right] \\\\\n",
    "& \\text{Some math}\\\\\n",
    "&=\\mathbb{E}_{(s_t, a_t) \\sim \\pi_{\\theta^\\prime}}\\left[\\frac{p_\\theta(a_t\\mid s_t)}{p_{\\theta^\\prime}(a_t\\mid s_t)}A^{\\theta^\\prime}(s_t, a_t) \\nabla \\log p_\\theta(a_t^n\\mid s_t^n)\\right]\n",
    "\\end{align*}\n",
    "$$\n",
    "\n",
    "Thus, the objective function: \n",
    "\n",
    "$$\n",
    "\\begin{align*}\n",
    "\\mathcal{J}^{\\theta^\\prime}(\\theta) = \\mathbb{E}_{(s_t, a_t) \\sim \\pi_{\\theta^\\prime}}\\left[\\frac{p_\\theta(a_t\\mid s_t)}{p_{\\theta^\\prime}(a_t \\mid s_t)}A^{\\theta^\\prime}(s_t, a_t)\\right]\n",
    "\\end{align*}\n",
    "$$"
   ]
  },
  {
   "cell_type": "markdown",
   "id": "e4d0332b",
   "metadata": {},
   "source": [
    "#### 如何避免$p(x)$和$q(x)$相差太多?\n",
    "\n",
    "##### PPO (adding the constrains)"
   ]
  },
  {
   "cell_type": "markdown",
   "id": "b07d4ba0",
   "metadata": {},
   "source": [
    "$$\\mathcal{J}^{\\theta^\\prime}(\\theta) = \\mathcal{J}^{\\theta^\\prime}(\\theta) - \\beta\\text{KL}(\\theta, \\theta^\\prime)$$"
   ]
  },
  {
   "cell_type": "markdown",
   "id": "a28c06bd",
   "metadata": {},
   "source": [
    "Process of PPO\n",
    "- Initial policy parameters $\\theta^0$.\n",
    "- In each iteration $k$\n",
    "    - Using $\\theta^k$ to interact with the environment to collect $\\{s_t, a_t\\}$ and compute advantage $A^{\\theta^k}(s_t, a_t)$\n",
    "    - Find $\\theta$ optimizing $\\mathcal{J}_{\\text{PPO}}^{\\theta^k}(\\theta) = \\mathcal{J}^{\\theta^k}(\\theta) - \\beta \\text{KL}(\\theta, \\theta^k)$"
   ]
  }
 ],
 "metadata": {
  "kernelspec": {
   "display_name": "Python 3 (ipykernel)",
   "language": "python",
   "name": "python3"
  },
  "language_info": {
   "codemirror_mode": {
    "name": "ipython",
    "version": 3
   },
   "file_extension": ".py",
   "mimetype": "text/x-python",
   "name": "python",
   "nbconvert_exporter": "python",
   "pygments_lexer": "ipython3",
   "version": "3.11.3"
  }
 },
 "nbformat": 4,
 "nbformat_minor": 5
}
